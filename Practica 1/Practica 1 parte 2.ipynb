{
 "cells": [
  {
   "cell_type": "code",
   "execution_count": 119,
   "metadata": {},
   "outputs": [],
   "source": [
    "import numpy as np\n",
    "import matplotlib.pyplot as plt\n",
    "import matplotlib.lines as mlines\n",
    "\n",
    "from mpl_toolkits.mplot3d import Axes3D\n",
    "from matplotlib import cm\n",
    "from pandas.io.parsers import read_csv"
   ]
  },
  {
   "cell_type": "code",
   "execution_count": 120,
   "metadata": {},
   "outputs": [],
   "source": [
    "def lee_csv(filename):\n",
    "    valores = read_csv(filename, header= None).values\n",
    "    return valores.astype(float)"
   ]
  },
  {
   "cell_type": "code",
   "execution_count": 121,
   "metadata": {},
   "outputs": [],
   "source": [
    "def funcion_ec_normal(X, Y):\n",
    "    return np.linalg.pinv(X.transpose * X) * X.transpose * Y  #X NO se normaliza"
   ]
  },
  {
   "cell_type": "code",
   "execution_count": 122,
   "metadata": {},
   "outputs": [],
   "source": [
    "def normalizar_matriz(X):\n",
    "    #X_norm = [][] # tiene las mismas dimensiones que X, con los valores normalizados\n",
    "    mu = np.mean(X, axis = 1) # medias de cada atributo\n",
    "    sigma = np.std(X, axis = 1) # desviación estándar de cada atributo\n",
    "    X_norm = []\n",
    "    X_norm.append(X[0])\n",
    "    for j in range(1, len(X[1])):\n",
    "        X_norm.append((X[j] -  mu[j]) / sigma[j])\n",
    "        \n",
    "    # El valor de cada atributo ahora será el cociente entre su diferencia con la media y la desviación estándar\n",
    "    # de ese atributo en los ejemplos de entrenamiento\n",
    "    return np.array(X_norm), mu, sigma"
   ]
  },
  {
   "cell_type": "code",
   "execution_count": 123,
   "metadata": {},
   "outputs": [],
   "source": [
    "def hipotesis(x, THETA):\n",
    "    return THETA.transpose()*x # Se devuelve (la matriz traspuesta de THETA)*x"
   ]
  },
  {
   "cell_type": "code",
   "execution_count": 124,
   "metadata": {},
   "outputs": [],
   "source": [
    "def funcion_coste_vectorizada(X, Y, THETA, num_muestras):\n",
    "    normal = (X*THETA - Y)\n",
    "    tras = normal.transpose()\n",
    "    \n",
    "    return (1 / 2 * num_muestras) * tras * (X*THETA - Y)"
   ]
  },
  {
   "cell_type": "code",
   "execution_count": 125,
   "metadata": {},
   "outputs": [],
   "source": [
    "def descenso_gradiente(X, Y, THETA, num_muestras, alpha = 0.01, iteraciones = 1500):\n",
    "    sumatorio = 0.0 #Sumatorio desde 1 hasta m        \n",
    "    for j in range(0, iteraciones):\n",
    "        for aux in range(0, len(THETA)):\n",
    "            for i in range(num_muestras):\n",
    "                sumtemp = sumatorio + ((hipotesis(X[i], THETA) - Y[i])*X[i][aux])\n",
    "                sumatorio = sumtemp\n",
    "            temp = THETA[aux] - alpha*(1/num_muestras)*sumatorio\n",
    "            THETA[aux] = temp\n",
    "            sumtemp = sumatorio = 0.0\n",
    "            \n",
    "    dibuja_hipotesis(X, Y, THETA)\n",
    "    return THETA"
   ]
  },
  {
   "cell_type": "code",
   "execution_count": 127,
   "metadata": {},
   "outputs": [
    {
     "ename": "NameError",
     "evalue": "name 'vY_norm' is not defined",
     "output_type": "error",
     "traceback": [
      "\u001b[1;31m---------------------------------------------------------------------------\u001b[0m",
      "\u001b[1;31mNameError\u001b[0m                                 Traceback (most recent call last)",
      "\u001b[1;32m<ipython-input-127-ee0d656f70c6>\u001b[0m in \u001b[0;36m<module>\u001b[1;34m()\u001b[0m\n\u001b[0;32m     24\u001b[0m \u001b[0mTHETA\u001b[0m \u001b[1;33m=\u001b[0m \u001b[0mnp\u001b[0m\u001b[1;33m.\u001b[0m\u001b[0marray\u001b[0m\u001b[1;33m(\u001b[0m\u001b[1;33m[\u001b[0m\u001b[1;36m0\u001b[0m \u001b[1;32mfor\u001b[0m \u001b[0mi\u001b[0m \u001b[1;32min\u001b[0m \u001b[0mrange\u001b[0m\u001b[1;33m(\u001b[0m\u001b[0mlen\u001b[0m\u001b[1;33m(\u001b[0m\u001b[0mvX_norm\u001b[0m\u001b[1;33m)\u001b[0m\u001b[1;33m)\u001b[0m\u001b[1;33m]\u001b[0m\u001b[1;33m)\u001b[0m\u001b[1;33m\u001b[0m\u001b[0m\n\u001b[0;32m     25\u001b[0m \u001b[1;33m\u001b[0m\u001b[0m\n\u001b[1;32m---> 26\u001b[1;33m \u001b[0mTHETA\u001b[0m \u001b[1;33m=\u001b[0m \u001b[0mdescenso_gradiente\u001b[0m\u001b[1;33m(\u001b[0m\u001b[0mvX_norm\u001b[0m\u001b[1;33m,\u001b[0m \u001b[0mvY_norm\u001b[0m\u001b[1;33m,\u001b[0m \u001b[0mTHETA\u001b[0m\u001b[1;33m,\u001b[0m \u001b[0mnum_muestras\u001b[0m\u001b[1;33m)\u001b[0m\u001b[1;33m\u001b[0m\u001b[0m\n\u001b[0m\u001b[0;32m     27\u001b[0m \u001b[1;33m\u001b[0m\u001b[0m\n\u001b[0;32m     28\u001b[0m \u001b[0mtheta\u001b[0m \u001b[1;33m=\u001b[0m \u001b[0mdescenso_gradiente\u001b[0m\u001b[1;33m(\u001b[0m\u001b[0mvX\u001b[0m\u001b[1;33m,\u001b[0m \u001b[0mvY\u001b[0m\u001b[1;33m,\u001b[0m \u001b[0mtheta\u001b[0m\u001b[1;33m,\u001b[0m \u001b[0mnum_muestras\u001b[0m\u001b[1;33m)\u001b[0m\u001b[1;33m\u001b[0m\u001b[0m\n",
      "\u001b[1;31mNameError\u001b[0m: name 'vY_norm' is not defined"
     ]
    }
   ],
   "source": [
    "datos_Fichero = lee_csv('ex1data2.csv')\n",
    "filas = list(datos_Fichero)\n",
    "num_muestras = len(filas)\n",
    "columnas = 2 # De 0 a 2 (?)\n",
    "\n",
    "vY = np.array([0 for i in range(num_muestras)])\n",
    "vX = np.array([[0 for i in range (len(filas[0]))] for i in range (num_muestras)])\n",
    "\n",
    "for x in range(len(filas)):\n",
    "    for y in range (len(filas[0])+1):\n",
    "        if(y == 0):\n",
    "            vX [x][y] = 1\n",
    "        elif(y < len(filas[0])):\n",
    "            vX [x][y] = filas[x][y-1]\n",
    "        else:\n",
    "            vY[x] = filas[x][y-1]\n",
    "            \n",
    "vX_transpuesta = vX.transpose()\n",
    "vX_norm, vX_media, vX_desv_std = normalizar_matriz(vX)\n",
    "vY_media = np.mean(vY)\n",
    "vY_desv_std = np.std(vY)\n",
    "vX_norm_transpuesta = vX_norm.transpose()\n",
    "\n",
    "THETA = np.array([0 for i in range(len(vX_norm))])\n",
    "\n",
    "THETA = descenso_gradiente(vX_norm, vY_norm, THETA, num_muestras)\n",
    "\n",
    "theta = descenso_gradiente(vX, vY, theta, num_muestras)\n",
    "valor_normal = funcion_ec_normal(vX, vY)"
   ]
  },
  {
   "cell_type": "code",
   "execution_count": null,
   "metadata": {},
   "outputs": [],
   "source": []
  }
 ],
 "metadata": {
  "kernelspec": {
   "display_name": "Python 3",
   "language": "python",
   "name": "python3"
  },
  "language_info": {
   "codemirror_mode": {
    "name": "ipython",
    "version": 3
   },
   "file_extension": ".py",
   "mimetype": "text/x-python",
   "name": "python",
   "nbconvert_exporter": "python",
   "pygments_lexer": "ipython3",
   "version": "3.6.5"
  }
 },
 "nbformat": 4,
 "nbformat_minor": 2
}
