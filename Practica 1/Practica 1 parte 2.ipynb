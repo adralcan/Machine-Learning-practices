{
 "cells": [
  {
   "cell_type": "code",
   "execution_count": 203,
   "metadata": {},
   "outputs": [],
   "source": [
    "import numpy as np\n",
    "import matplotlib.pyplot as plt\n",
    "import matplotlib.lines as mlines\n",
    "\n",
    "from mpl_toolkits.mplot3d import Axes3D\n",
    "from matplotlib import cm\n",
    "from pandas.io.parsers import read_csv"
   ]
  },
  {
   "cell_type": "code",
   "execution_count": 204,
   "metadata": {},
   "outputs": [],
   "source": [
    "def lee_csv(filename):\n",
    "    valores = read_csv(filename, header= None).values\n",
    "    return valores"
   ]
  },
  {
   "cell_type": "code",
   "execution_count": 205,
   "metadata": {},
   "outputs": [],
   "source": [
    "def funcion_ec_normal(X, Y):\n",
    "    #np.linalg.pinv < pseudo-inversa de dos matrices\n",
    "    #np.matmul < producto de dos matrices\n",
    "    return np.matmul(np.matmul(np.linalg.pinv((np.matmul(np.transpose(X),X))),np.transpose(X)), Y) #X NO se normaliza    "
   ]
  },
  {
   "cell_type": "code",
   "execution_count": 206,
   "metadata": {},
   "outputs": [],
   "source": [
    "def normalizar_matriz(X):\n",
    "    #X_norm = [][] # tiene las mismas dimensiones que X, con los valores normalizados\n",
    "    mu = np.mean(X, axis = 0) # medias de cada atributo\n",
    "    sigma = np.std(X, axis = 0) # desviación estándar de cada atributo\n",
    "    X_norm = (X -  mu) / sigma\n",
    "        \n",
    "    # El valor de cada atributo ahora será el cociente entre su diferencia con la media y la desviación estándar\n",
    "    # de ese atributo en los ejemplos de entrenamiento\n",
    "    return np.array(X_norm), mu, sigma"
   ]
  },
  {
   "cell_type": "code",
   "execution_count": 207,
   "metadata": {},
   "outputs": [],
   "source": [
    "def hipotesis(x, THETA):\n",
    "    return np.dot(np.transpose(THETA),x) # Se devuelve (la matriz traspuesta de THETA)*x"
   ]
  },
  {
   "cell_type": "code",
   "execution_count": 208,
   "metadata": {},
   "outputs": [],
   "source": [
    "def funcion_coste_vectorizada(X, Y, THETA, num_muestras):\n",
    "    normal = (np.dot(X,THETA) - Y)\n",
    "    tras = np.transpose(np.dot(X,THETA)) - Y\n",
    "   \n",
    "    return (1 / 2 * num_muestras) * np.dot(tras, normal)"
   ]
  },
  {
   "cell_type": "code",
   "execution_count": 209,
   "metadata": {},
   "outputs": [],
   "source": [
    "def descenso_gradiente(X, Y, THETA, num_muestras, alpha = 0.01, iteraciones = 1500):\n",
    "    #Nos vamos acercando iterativamente al valor de theta\n",
    "    #que minimiza la función de coste J\n",
    "    #Hay que computar el valor de la hipótesis en cada iteración\n",
    "    #utilizando los valores de los parámetros thetaj obtenidos en \n",
    "    #la iteración anterior      \n",
    "    aux = THETA\n",
    "    for i in range(0, len(THETA)):\n",
    "        THETA[i] = THETA[i] - alpha * np.mean((hipotesis(X, aux) - Y) * X[i,:])\n",
    "    \n",
    "    return THETA"
   ]
  },
  {
   "cell_type": "code",
   "execution_count": 213,
   "metadata": {},
   "outputs": [
    {
     "name": "stdout",
     "output_type": "stream",
     "text": [
      "Coste con alpha 0.001: 144604585430192.06\n",
      "Coste con alpha 0.01: 139236868700438.86\n",
      "Coste con alpha 0.1: 78393953027142.55\n",
      "Coste con alpha 1.0: 4513615410391.543\n"
     ]
    },
    {
     "data": {
      "image/png": "[encoded data removed]",
      "text/plain": [
       "<Figure size 432x288 with 1 Axes>"
      ]
     },
     "metadata": {},
     "output_type": "display_data"
    }
   ],
   "source": [
    "datos_Fichero = lee_csv('ex1data2.csv')\n",
    "num_muestras = len(datos_Fichero)\n",
    "iteraciones = 1500\n",
    "\n",
    "#THETA de ceros\n",
    "THETA = np.zeros(np.shape(datos_Fichero)[1])\n",
    "\n",
    "#[:,:] < incluye todos los datos de esa magnitud (en este caso, los del fichero)\n",
    "vX = datos_Fichero[:,:-1]\n",
    "vY = datos_Fichero[:,-1]\n",
    "X_norm, mu, sigma = normalizar_matriz(vX)\n",
    "\n",
    "#Para añadir la fila de unos directamente, existe la función np.ones\n",
    "X_norm = np.hstack([np.ones((len(datos_Fichero), 1)), X_norm])\n",
    "\n",
    "#print(X_norm)\n",
    "cont = 4\n",
    "alpha = 0.0001\n",
    "plt.figure()\n",
    "for i in range(0, cont):\n",
    "    alpha = alpha * 10 \n",
    "   \n",
    "    #Para cada alpha se reinicia el theta y los costes\n",
    "    THETA = np.zeros(np.shape(datos_Fichero)[1]) \n",
    "    costes = np.empty(iteraciones + 1)  \n",
    "    #print(THETA) \n",
    "    \n",
    "    for j in range(0, iteraciones):\n",
    "        THETA = descenso_gradiente(np.transpose(X_norm), vY, THETA, num_muestras, alpha)\n",
    "        costes[j] = funcion_coste_vectorizada(X_norm, vY, THETA, num_muestras)\n",
    "    \n",
    "    print('Coste con alpha ' + str(alpha) +': ' + str(costes[i]))\n",
    "    \n",
    "    #s = escala de los puntos\n",
    "    #marker = cómo se representa cada dato   \n",
    "    #NO usar plt.plot\n",
    "    plt.scatter(range(0,iteraciones+1), costes, s = 4, marker = '.')      \n",
    "    cont = cont + 1\n",
    "\n",
    "plt.show() "
   ]
  },
  {
   "cell_type": "code",
   "execution_count": 211,
   "metadata": {},
   "outputs": [
    {
     "name": "stdout",
     "output_type": "stream",
     "text": [
      "Predicción por descenso de gradiente: 293081.4643348961\n",
      "Predicción por ec. normal: 293081.4643349892\n"
     ]
    }
   ],
   "source": [
    "X = datos_Fichero[:,:-1]\n",
    "Y = datos_Fichero[:,-1]\n",
    "\n",
    "X = np.hstack([np.ones((len(datos_Fichero), 1)), X])\n",
    "#np.hstack([np.ones((len(datos_Fichero), 1)), X_norm])\n",
    "\n",
    "newTheta = funcion_ec_normal(X, Y)\n",
    "\n",
    "#SUPERFICIE: 1650 pies cuadrados y 3 habitaciones \n",
    "#USAR MU Y SIGMA DE LOS VALORES NO NORMALIZADOS\n",
    "ejemplo = [1, (1650-mu[0]) / sigma[0], (3-mu[1]) / sigma[1]]\n",
    "pred1 = hipotesis(ejemplo, THETA)\n",
    "#[Fila de 1, pies, habitaciones]\n",
    "pred2 = hipotesis( [1, 1650, 3], newTheta)\n",
    "\n",
    "print (\"Predicción por descenso de gradiente: \" + str(pred1))\n",
    "print (\"Predicción por ec. normal: \" + str(pred2))"
   ]
  },
  {
   "cell_type": "code",
   "execution_count": null,
   "metadata": {},
   "outputs": [],
   "source": []
  }
 ],
 "metadata": {
  "kernelspec": {
   "display_name": "Python 3",
   "language": "python",
   "name": "python3"
  },
  "language_info": {
   "codemirror_mode": {
    "name": "ipython",
    "version": 3
   },
   "file_extension": ".py",
   "mimetype": "text/x-python",
   "name": "python",
   "nbconvert_exporter": "python",
   "pygments_lexer": "ipython3",
   "version": "3.6.5"
  }
 },
 "nbformat": 4,
 "nbformat_minor": 2
}
