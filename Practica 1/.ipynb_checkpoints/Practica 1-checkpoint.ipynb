{
 "cells": [
  {
   "cell_type": "code",
   "execution_count": 3,
   "metadata": {},
   "outputs": [],
   "source": [
    "import numpy as np\n",
    "import matplotlib.pyplot as plt\n",
    "import matplotlib.lines as mlines\n",
    "import time\n",
    "from pandas.io.parsers import read_csv"
   ]
  },
  {
   "cell_type": "code",
   "execution_count": 4,
   "metadata": {},
   "outputs": [],
   "source": [
    "def lee_csv(filename):\n",
    "    valores = read_csv(filename, header= None).values\n",
    "    return valores.astype(float)"
   ]
  },
  {
   "cell_type": "code",
   "execution_count": 5,
   "metadata": {},
   "outputs": [],
   "source": [
    "def hipotesis(x, theta0, theta1):\n",
    "    return theta0 + theta1*x"
   ]
  },
  {
   "cell_type": "code",
   "execution_count": 6,
   "metadata": {},
   "outputs": [],
   "source": [
    "def dibuja_hipotesis(X, theta0, theta1):\n",
    "    X_aux = np.linspace(min(X), max(X))\n",
    "    Y_aux = theta0 + theta1 * X_aux\n",
    "    plt.plot(X_aux, Y_aux, '-')\n",
    "    "
   ]
  },
  {
   "cell_type": "code",
   "execution_count": 2,
   "metadata": {},
   "outputs": [],
   "source": [
    "def funcion_coste(X, Y, theta0, theta1):\n",
    "    sumatorio = 0.0 #Sumatorio desde 1 hasta m\n",
    "    for i in range(1, len(X)):\n",
    "        sumatorio = sumatorio + ((hipotesis(X[i], theta0, theta1) - Y[i])**2)\n",
    "        \n",
    "    return sumatorio/(2*len(X))    "
   ]
  },
  {
   "cell_type": "code",
   "execution_count": 4,
   "metadata": {},
   "outputs": [],
   "source": [
    "def descenso_gradiente(X, Y, theta0, theta1, alpha = 0.01, iteraciones = 1500):\n",
    "    #Nos vamos acercando iterativamente al valor de theta\n",
    "    #que minimiza la función de coste J\n",
    "    #Hay que computar el valor de la hipótesis en cada iteración\n",
    "    #utilizando los valores de los parámetros thetaj obtenidos en \n",
    "    #la iteración anterior\n",
    "    sumatorio0 = 0.0 #Sumatorio desde 1 hasta m\n",
    "    sumatorio1 = 0.0\n",
    "    print('Antes' + str(funcion_coste(X, Y, theta0, theta1)))\n",
    "    for i in range(1, len(X)):\n",
    "        sumatorio0 = sumatorio0 + (hipotesis(X[i], theta0, theta1) - Y[i])\n",
    "        sumatorio1 = sumatorio1 + ((hipotesis(X[i], theta0, theta1) - Y[i])*X[i])\n",
    "        \n",
    "    for j in range(0, iteraciones):\n",
    "        temp0 = theta0 - ((alpha/len(X))*sumatorio0)\n",
    "        temp1 = theta1 - ((alpha/len(X))*sumatorio1)\n",
    "        theta0 = temp0\n",
    "        theta1 = temp1\n",
    "        print('Durante' + str(funcion_coste(X, Y, theta0, theta1)))\n",
    "        "
   ]
  },
  {
   "cell_type": "code",
   "execution_count": null,
   "metadata": {},
   "outputs": [],
   "source": []
  }
 ],
 "metadata": {
  "kernelspec": {
   "display_name": "Python 3",
   "language": "python",
   "name": "python3"
  },
  "language_info": {
   "codemirror_mode": {
    "name": "ipython",
    "version": 3
   },
   "file_extension": ".py",
   "mimetype": "text/x-python",
   "name": "python",
   "nbconvert_exporter": "python",
   "pygments_lexer": "ipython3",
   "version": "3.6.5"
  }
 },
 "nbformat": 4,
 "nbformat_minor": 2
}
