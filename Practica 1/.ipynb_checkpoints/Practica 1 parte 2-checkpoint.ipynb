{
 "cells": [
  {
   "cell_type": "code",
   "execution_count": 1,
   "metadata": {},
   "outputs": [],
   "source": [
    "import numpy as np\n",
    "import matplotlib.pyplot as plt\n",
    "import matplotlib.lines as mlines\n",
    "\n",
    "from mpl_toolkits.mplot3d import Axes3D\n",
    "from matplotlib import cm\n",
    "from pandas.io.parsers import read_csv"
   ]
  },
  {
   "cell_type": "code",
   "execution_count": null,
   "metadata": {},
   "outputs": [],
   "source": [
    "def lee_csv(filename):\n",
    "    valores = read_csv(filename, header= None).values\n",
    "    return valores.astype(float)"
   ]
  },
  {
   "cell_type": "code",
   "execution_count": null,
   "metadata": {},
   "outputs": [],
   "source": [
    "def normalizar_matriz(X):\n",
    "    X_norm = [][] # tiene las mismas dimensiones que X, con los valores normalizados\n",
    "    mu = [] # medias de cada atributo\n",
    "    sigma = [] # desviación estándar de cada atributo\n",
    "    \n",
    "    # El valor de cada atributo ahora será el cociente entre su diferencia con la media y la desviación estándar\n",
    "    # de ese atributo en los ejemplos de entrenamiento\n",
    "    return X_norm, mu, sigma"
   ]
  },
  {
   "cell_type": "code",
   "execution_count": null,
   "metadata": {},
   "outputs": [],
   "source": [
    "def hipotesis(x, THETA):\n",
    "    return THETA.transpose()*x # Se devuelve (la matriz traspuesta de THETA)*x"
   ]
  },
  {
   "cell_type": "code",
   "execution_count": null,
   "metadata": {},
   "outputs": [],
   "source": [
    "def funcion_coste(X, Y, THETA, num_muestras):\n",
    "    sumatorio = 0.0 #Sumatorio desde 1 hasta m\n",
    "    for i in range(1, num_muestras):\n",
    "        sumatorio = sumatorio + (hipotesis(X[i], THETA) - Y[i])**2\n",
    "        \n",
    "    return (1/(2*num_muestras))*sumatorio "
   ]
  },
  {
   "cell_type": "code",
   "execution_count": null,
   "metadata": {},
   "outputs": [],
   "source": [
    "def descenso_gradiente(X, Y, THETA, num_muestras, alpha = 0.01, iteraciones = 1500):\n",
    "    sumatorio = 0.0 #Sumatorio desde 1 hasta m        \n",
    "    for j in range(0, iteraciones):\n",
    "        for aux in range(0, len(THETA)):\n",
    "            for i in range(num_muestras):\n",
    "                sumtemp = sumatorio + ((hipotesis(X[i], THETA) - Y[i])*X[i][aux])\n",
    "                sumatorio = sumtemp\n",
    "            temp = THETA[aux] - alpha*(1/num_muestras)*sumatorio\n",
    "            THETA[aux] = temp\n",
    "            sumtemp = sumatorio = 0.0\n",
    "            \n",
    "    dibuja_hipotesis(X, Y, THETA)\n",
    "    return THETA"
   ]
  }
 ],
 "metadata": {
  "kernelspec": {
   "display_name": "Python 3",
   "language": "python",
   "name": "python3"
  },
  "language_info": {
   "codemirror_mode": {
    "name": "ipython",
    "version": 3
   },
   "file_extension": ".py",
   "mimetype": "text/x-python",
   "name": "python",
   "nbconvert_exporter": "python",
   "pygments_lexer": "ipython3",
   "version": "3.6.5"
  }
 },
 "nbformat": 4,
 "nbformat_minor": 2
}
