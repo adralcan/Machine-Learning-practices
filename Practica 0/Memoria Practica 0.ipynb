{
 "cells": [
  {
   "cell_type": "markdown",
   "metadata": {},
   "source": [
    "# Memoria Práctica 0 - MonteCarlo"
   ]
  },
  {
   "cell_type": "markdown",
   "metadata": {},
   "source": [
    "Para esta práctica 0 hemos dividido el trabajo en dos partes: Adrián se ha encargado de la parte de llevar a cabo el algoritmo mediante bucles, mientras que Jose María se ha encargado de la parte de vectorización.\n",
    "\n",
    "A continuación se muestra el ejercicio completo con la solución. Vamos a explicar qué hace cada parte del código empezando por la parte de vectorización."
   ]
  },
  {
   "cell_type": "code",
   "execution_count": 3,
   "metadata": {},
   "outputs": [
    {
     "name": "stdout",
     "output_type": "stream",
     "text": [
      "Porcentaje: 36.352608374159225\n"
     ]
    },
    {
     "data": {
      "text/plain": [
       "<Figure size 640x480 with 1 Axes>"
      ]
     },
     "metadata": {},
     "output_type": "display_data"
    }
   ],
   "source": [
    "import random\n",
    "import numpy as np\n",
    "import matplotlib.pyplot as plt\n",
    "import matplotlib.lines as mlines\n",
    "\n",
    "def createFunction(fun, a, b, num_puntos):\n",
    "    M = np.arange(a, b, 0.01/num_puntos)\n",
    "    Y = fun(M)\n",
    "    return M, Y;\n",
    "\n",
    "def createPoints(fun, a, b, M, Y):\n",
    "        #Ajustamos la altura de la representación de los puntos en Y para que no se salgan de los valores de la gráfica\n",
    "        alt = max(fun(M))\n",
    "        size = len(M)\n",
    "        plt.xlim(a-0.1, b+0.1) \n",
    "        plt.ylim(-0.1, alt+0.1)\n",
    "        puntos = np.random.uniform(low=0.0, high=alt, size=(size))     \n",
    "        valor = monteCarlo(M, Y, puntos, size)       \n",
    "        return valor, puntos;\n",
    "    \n",
    "def monteCarlo(M, Y, puntos, size):  \n",
    "    correctos = np.sum(Y < puntos)\n",
    "    return(correctos*100)/size;\n",
    "\n",
    "def integra_mc(fun, a, b, num_puntos=10000):\n",
    "        M, Y = createFunction(fun, a, b, num_puntos)  \n",
    "        valor, puntos = createPoints(fun, a, b, M, Y)\n",
    "        print(\"Porcentaje: \" + str(valor))\n",
    "        #Pintamos la función por último sino se queda detrás de todos los puntos\n",
    "        plt.plot(M, puntos, 'x')       \n",
    "        plt.plot(M, Y)\n",
    "        plt.show()\n",
    "        \n",
    "integra_mc(np.sin, 0, np.pi)"
   ]
  },
  {
   "cell_type": "markdown",
   "metadata": {},
   "source": [
    "Ese es todo el código perteneciente a la parte de vectorización. Aunque los métodos auxiliares se repiten en ambas versiones, voy a explicar un poco cada uno y por último los resultados obtenidos."
   ]
  },
  {
   "cell_type": "code",
   "execution_count": null,
   "metadata": {},
   "outputs": [],
   "source": [
    "def createFunction(fun, a, b, num_puntos):\n",
    "    M = np.arange(a, b, 0.01/num_puntos)\n",
    "    Y = fun(M)\n",
    "    return M, Y;"
   ]
  },
  {
   "cell_type": "markdown",
   "metadata": {},
   "source": [
    "La función \"createFunction\" implementa simplemente la función mediante el método de Monte Carlo. Le pasamos los parámetros necesarios (a, b) y el número de puntos para dividir el espacio de puntos entre esos dos valores. Con la función \"arange\" de numpy creamos la función en el intervalo que ahí le pasamos.\n",
    "\n",
    "Devolvemos los valores derivados de la función para utlizarlos después en el cálculo de los puntos y ver cuántos quedan por debajo o encima de ella."
   ]
  },
  {
   "cell_type": "code",
   "execution_count": null,
   "metadata": {},
   "outputs": [],
   "source": [
    "def createPoints(fun, a, b, M, Y):\n",
    "        #Ajustamos la altura de la representación de los puntos en Y para que no se salgan de los valores de la gráfica\n",
    "        alt = max(fun(M))\n",
    "        size = len(M)\n",
    "        plt.xlim(a-0.1, b+0.1) \n",
    "        plt.ylim(-0.1, alt+0.1)\n",
    "        puntos = np.random.uniform(low=0.0, high=alt, size=(size))     \n",
    "        valor = monteCarlo(M, Y, puntos, size)       \n",
    "        return valor, puntos;"
   ]
  },
  {
   "cell_type": "markdown",
   "metadata": {},
   "source": [
    "Este es el método que más dista de la otra versión, ya que forma los puntos aleatorios de manera aleatoria mediante vectorización. \n",
    "\n",
    "Lo que hacemos aquí es sacar el máximo de la función en altura y anchura para representar los puntos que saquemos en esas medidas. A continuación sacamos los num_puntos aleatoriamente utilizando la función numpy.random.uniform.\n",
    "\n",
    "Por último, dentro de esta misma función llamamos al método MonteCarlo que nos dará el porcentaje de puntos que se encuentran por encima de la función M."
   ]
  },
  {
   "cell_type": "code",
   "execution_count": null,
   "metadata": {},
   "outputs": [],
   "source": [
    "def monteCarlo(M, Y, puntos, size):  \n",
    "    correctos = np.sum(Y < puntos)\n",
    "    return(correctos*100)/size;"
   ]
  },
  {
   "cell_type": "markdown",
   "metadata": {},
   "source": [
    "\"monteCarlo\", por su parte, hace exactamente lo ya explicado: suma todos los puntos que cumplen (Y < puntos) y devuelve ese número entre el total en porcentaje."
   ]
  },
  {
   "cell_type": "code",
   "execution_count": 1,
   "metadata": {},
   "outputs": [],
   "source": [
    "def integra_mc1(fun, a, b, num_puntos=10000):\n",
    "        M, Y = createFunction(fun, a, b, num_puntos)  \n",
    "        valor, puntos = createPoints(fun, a, b, M, Y)\n",
    "        print(\"Porcentaje: \" + str(valor))\n",
    "        #Pintamos la función por último sino se queda detrás de todos los puntos\n",
    "        plt.plot(M, puntos, 'x')       \n",
    "        plt.plot(M, Y)\n",
    "        plt.show()"
   ]
  },
  {
   "cell_type": "markdown",
   "metadata": {},
   "source": [
    "Por último, la función \"integra_mc1\" crea la función de MonteCarlo y forma todos los puntos aleatorios. Finalmente, muestra el Porcentaje, pinta los puntos y finalmente la función (está hecho en este orden ya que al ser 10.000 puntos la función no se visualiza debajo de todos los puntos). Diferenciamos \"integra_mc1\" de \"integra_mc2\" aunque hagan prácticamente lo mismo para calcular el tiempo de ejecución.\n",
    "\n",
    "Al terminar, obtenemos la siguiente gráfica:"
   ]
  },
  {
   "cell_type": "code",
   "execution_count": 4,
   "metadata": {},
   "outputs": [
    {
     "name": "stdout",
     "output_type": "stream",
     "text": [
      "Porcentaje: 36.33150443103228\n"
     ]
    },
    {
     "data": {
      "image/png": "[encoded data removed]",
      "text/plain": [
       "<Figure size 432x288 with 1 Axes>"
      ]
     },
     "metadata": {},
     "output_type": "display_data"
    }
   ],
   "source": [
    "integra_mc(np.sin, 0, np.pi)"
   ]
  },
  {
   "cell_type": "markdown",
   "metadata": {},
   "source": [
    "Donde podemos observar la parte naranja de puntos y la línea verde representando la función. El porcentaje de puntos que se encuentran por encima de la función es aproximadamente ≈ 36%."
   ]
  },
  {
   "cell_type": "code",
   "execution_count": null,
   "metadata": {},
   "outputs": [],
   "source": []
  }
 ],
 "metadata": {
  "kernelspec": {
   "display_name": "Python 3",
   "language": "python",
   "name": "python3"
  },
  "language_info": {
   "codemirror_mode": {
    "name": "ipython",
    "version": 3
   },
   "file_extension": ".py",
   "mimetype": "text/x-python",
   "name": "python",
   "nbconvert_exporter": "python",
   "pygments_lexer": "ipython3",
   "version": "3.6.5"
  }
 },
 "nbformat": 4,
 "nbformat_minor": 2
}
