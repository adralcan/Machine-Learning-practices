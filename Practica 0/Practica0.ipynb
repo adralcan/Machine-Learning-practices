{
 "cells": [
  {
   "cell_type": "code",
   "execution_count": 12,
   "metadata": {},
   "outputs": [],
   "source": [
    "import random\n",
    "import numpy as np\n",
    "import matplotlib.pyplot as plt\n",
    "import matplotlib.lines as mlines"
   ]
  },
  {
   "cell_type": "code",
   "execution_count": 14,
   "metadata": {},
   "outputs": [],
   "source": [
    "def fun(x):\n",
    "    return x**2"
   ]
  },
  {
   "cell_type": "code",
   "execution_count": 10,
   "metadata": {
    "scrolled": true
   },
   "outputs": [],
   "source": [
    "def createM(fun, a, b):\n",
    "    vX = np.arange(a, b, 0.1)\n",
    "    vY = [fun(i) for i in vX]\n",
    "    M = np.amax(vY)\n",
    "    return M"
   ]
  },
  {
   "cell_type": "code",
   "execution_count": null,
   "metadata": {},
   "outputs": [],
   "source": [
    "def integra_mc(fun, a, b, num_puntos=10000):\n",
    "    Ndebajo = 0\n",
    "    Ntotal = 0\n",
    "    M = createM(fun, a, b)\n",
    "    for punto in range(0, num_puntos - 1):\n",
    "        x = random.uniform(a, b)\n",
    "        y = random.uniform(a, b)\n",
    "        plt.plot(x, y, 'x')\n",
    "        imagen = fun(x)\n",
    "        if y < imagen:\n",
    "            Ndebajo++\n",
    "        if x => a and x <= b and y <= M:\n",
    "            Ntotal++\n",
    "    return (Ndebajo/Ntotal)*(b-a)*M\n"
   ]
  }
 ],
 "metadata": {
  "kernelspec": {
   "display_name": "Python 3",
   "language": "python",
   "name": "python3"
  },
  "language_info": {
   "codemirror_mode": {
    "name": "ipython",
    "version": 3
   },
   "file_extension": ".py",
   "mimetype": "text/x-python",
   "name": "python",
   "nbconvert_exporter": "python",
   "pygments_lexer": "ipython3",
   "version": "3.6.5"
  }
 },
 "nbformat": 4,
 "nbformat_minor": 2
}
