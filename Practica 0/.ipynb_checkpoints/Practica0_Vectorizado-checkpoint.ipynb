{
 "cells": [
  {
   "cell_type": "code",
   "execution_count": 30,
   "metadata": {},
   "outputs": [],
   "source": [
    "import random\n",
    "import numpy as np\n",
    "import matplotlib.pyplot as plt\n",
    "import matplotlib.lines as mlines\n",
    "\n",
    "def createFunction(fun, a, b, num_puntos):\n",
    "    M = np.arange(a, b, 0.01/num_puntos)\n",
    "    Y = fun(M)\n",
    "    return M, Y;\n",
    "\n",
    "def createPoints(fun, a, b, M, Y):\n",
    "        #Ajustamos la altura de la representación de los puntos en Y para que no se salgan de los valores de la gráfica\n",
    "        alt = max(fun(M))\n",
    "        size = len(M)\n",
    "        plt.xlim(a-0.1, b+0.1) \n",
    "        plt.ylim(-0.1, alt+0.1)\n",
    "        puntos = np.random.uniform(low=0.0, high=alt, size=(size))     \n",
    "        valor = monteCarlo(M, Y, puntos, size)       \n",
    "        return valor, puntos;\n",
    "    \n",
    "def monteCarlo(M, Y, puntos, size):  \n",
    "    correctos = np.sum(Y < puntos)\n",
    "    return(correctos*100)/size;\n",
    "\n",
    "def integra_mc(fun, a, b, num_puntos=10000):\n",
    "        M, Y = createFunction(fun, a, b, num_puntos)  \n",
    "        valor, puntos = createPoints(fun, a, b, M, Y)\n",
    "        print(\"Porcentaje: \" + str(valor))\n",
    "        #Pintamos la función por último sino se queda detrás de todos los puntos\n",
    "        plt.plot(M, puntos, 'x')       \n",
    "        plt.plot(M, Y)\n",
    "        plt.show()\n",
    "        "
   ]
  },
  {
   "cell_type": "code",
   "execution_count": 31,
   "metadata": {},
   "outputs": [
    {
     "name": "stdout",
     "output_type": "stream",
     "text": [
      "Porcentaje: 36.3472925996461\n"
     ]
    },
    {
     "data": {
      "image/png": "[encoded data removed]",
      "text/plain": [
       "<Figure size 432x288 with 1 Axes>"
      ]
     },
     "metadata": {},
     "output_type": "display_data"
    }
   ],
   "source": [
    "integra_mc(np.sin, 0, np.pi)"
   ]
  },
  {
   "cell_type": "code",
   "execution_count": null,
   "metadata": {},
   "outputs": [],
   "source": []
  }
 ],
 "metadata": {
  "kernelspec": {
   "display_name": "Python 3",
   "language": "python",
   "name": "python3"
  },
  "language_info": {
   "codemirror_mode": {
    "name": "ipython",
    "version": 3
   },
   "file_extension": ".py",
   "mimetype": "text/x-python",
   "name": "python",
   "nbconvert_exporter": "python",
   "pygments_lexer": "ipython3",
   "version": "3.6.5"
  }
 },
 "nbformat": 4,
 "nbformat_minor": 2
}
