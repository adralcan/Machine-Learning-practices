{
 "cells": [
  {
   "cell_type": "code",
   "execution_count": 1,
   "metadata": {},
   "outputs": [],
   "source": [
    "import numpy as np\n",
    "import matplotlib.pyplot as plt\n",
    "import matplotlib.lines as mlines\n",
    "\n",
    "from mpl_toolkits.mplot3d import Axes3D\n",
    "from matplotlib import cm\n",
    "from pandas.io.parsers import read_csv"
   ]
  },
  {
   "cell_type": "code",
   "execution_count": 2,
   "metadata": {},
   "outputs": [],
   "source": [
    "def lee_csv(filename):\n",
    "    valores = read_csv(filename, header= None).values\n",
    "    return valores"
   ]
  },
  {
   "cell_type": "code",
   "execution_count": 14,
   "metadata": {},
   "outputs": [],
   "source": [
    "def pinta_datos(X, Y):\n",
    "    pos = np.where(Y == 1)\n",
    "    pos2 = np.where(Y == 0)\n",
    "    plt.figure()\n",
    "    plt.scatter(X[pos, 0] , X[pos, 1] , marker='+' , c='k', label = 'Admitted')   \n",
    "    plt.scatter(X[pos2, 0] , X[pos2, 1] , marker='.' , c='y', label = 'Not admitted')   \n",
    "    plt.xlabel('Exam 1 score')\n",
    "    plt.ylabel('Exam 2 score')\n",
    "    plt.legend()\n",
    "    plt.show()"
   ]
  },
  {
   "cell_type": "code",
   "execution_count": 16,
   "metadata": {},
   "outputs": [],
   "source": [
    "def fun_sigmoide(z):\n",
    "    #1/1+e^(-z)\n",
    "    e = 2.718281\n",
    "    g = 1 / 1 + e*exp(z* -1)\n",
    "    \n",
    "    return g"
   ]
  },
  {
   "cell_type": "code",
   "execution_count": 17,
   "metadata": {},
   "outputs": [],
   "source": [
    "def funcion_coste_vectorizada(X, Y, THETA, num_muestras):\n",
    "    normal = (np.dot(X,THETA) - Y)\n",
    "    tras = np.transpose(np.dot(X,THETA)) - Y\n",
    "   \n",
    "    return (1 / 2 * num_muestras) * np.dot(tras, normal)"
   ]
  },
  {
   "cell_type": "code",
   "execution_count": 18,
   "metadata": {},
   "outputs": [],
   "source": [
    "def hipotesis(x, THETA):\n",
    "    return np.dot(np.transpose(THETA),x) # Se devuelve (la matriz traspuesta de THETA)*x"
   ]
  },
  {
   "cell_type": "code",
   "execution_count": 26,
   "metadata": {},
   "outputs": [],
   "source": [
    "def gradiente_funcion_coste(X, Y, THETA, num_muestras, alpha = 0.01):\n",
    "    tras = np.transpose(X)\n",
    "    \n",
    "    J = (1 / num_muestras) * np.dot(tras,(fun_sigmoide(X*THETA) - Y))\n",
    "    \n",
    "    #ESTO ES LAMBDA \n",
    "    return alpha*J/alpha*THETA"
   ]
  },
  {
   "cell_type": "code",
   "execution_count": 27,
   "metadata": {},
   "outputs": [
    {
     "data": {
      "image/png": "[encoded data removed]",
      "text/plain": [
       "<Figure size 432x288 with 1 Axes>"
      ]
     },
     "metadata": {},
     "output_type": "display_data"
    },
    {
     "ename": "ValueError",
     "evalue": "operands could not be broadcast together with shapes (100,2) (3,) ",
     "output_type": "error",
     "traceback": [
      "\u001b[1;31m---------------------------------------------------------------------------\u001b[0m",
      "\u001b[1;31mValueError\u001b[0m                                Traceback (most recent call last)",
      "\u001b[1;32m<ipython-input-27-e3ebee74c6c7>\u001b[0m in \u001b[0;36m<module>\u001b[1;34m()\u001b[0m\n\u001b[0;32m      9\u001b[0m \u001b[1;33m\u001b[0m\u001b[0m\n\u001b[0;32m     10\u001b[0m \u001b[1;31m#h = fun_sigmoide()\u001b[0m\u001b[1;33m\u001b[0m\u001b[1;33m\u001b[0m\u001b[0m\n\u001b[1;32m---> 11\u001b[1;33m \u001b[0mprint\u001b[0m\u001b[1;33m(\u001b[0m\u001b[0mgradiente_funcion_coste\u001b[0m\u001b[1;33m(\u001b[0m\u001b[0mX\u001b[0m\u001b[1;33m,\u001b[0m \u001b[0mY\u001b[0m\u001b[1;33m,\u001b[0m \u001b[0mTHETA\u001b[0m\u001b[1;33m,\u001b[0m \u001b[0mnum_muestras\u001b[0m\u001b[1;33m)\u001b[0m\u001b[1;33m)\u001b[0m\u001b[1;33m\u001b[0m\u001b[0m\n\u001b[0m\u001b[0;32m     12\u001b[0m \u001b[1;31m#h = h.reshape()\u001b[0m\u001b[1;33m\u001b[0m\u001b[1;33m\u001b[0m\u001b[0m\n",
      "\u001b[1;32m<ipython-input-26-b14259d09c78>\u001b[0m in \u001b[0;36mgradiente_funcion_coste\u001b[1;34m(X, Y, THETA, num_muestras, alpha)\u001b[0m\n\u001b[0;32m      2\u001b[0m     \u001b[0mtras\u001b[0m \u001b[1;33m=\u001b[0m \u001b[0mnp\u001b[0m\u001b[1;33m.\u001b[0m\u001b[0mtranspose\u001b[0m\u001b[1;33m(\u001b[0m\u001b[0mX\u001b[0m\u001b[1;33m)\u001b[0m\u001b[1;33m\u001b[0m\u001b[0m\n\u001b[0;32m      3\u001b[0m \u001b[1;33m\u001b[0m\u001b[0m\n\u001b[1;32m----> 4\u001b[1;33m     \u001b[0mJ\u001b[0m \u001b[1;33m=\u001b[0m \u001b[1;33m(\u001b[0m\u001b[1;36m1\u001b[0m \u001b[1;33m/\u001b[0m \u001b[0mnum_muestras\u001b[0m\u001b[1;33m)\u001b[0m \u001b[1;33m*\u001b[0m \u001b[0mnp\u001b[0m\u001b[1;33m.\u001b[0m\u001b[0mdot\u001b[0m\u001b[1;33m(\u001b[0m\u001b[0mtras\u001b[0m\u001b[1;33m,\u001b[0m\u001b[1;33m(\u001b[0m\u001b[0mfun_sigmoide\u001b[0m\u001b[1;33m(\u001b[0m\u001b[0mX\u001b[0m\u001b[1;33m*\u001b[0m\u001b[0mTHETA\u001b[0m\u001b[1;33m)\u001b[0m \u001b[1;33m-\u001b[0m \u001b[0mY\u001b[0m\u001b[1;33m)\u001b[0m\u001b[1;33m)\u001b[0m\u001b[1;33m\u001b[0m\u001b[0m\n\u001b[0m\u001b[0;32m      5\u001b[0m \u001b[1;33m\u001b[0m\u001b[0m\n\u001b[0;32m      6\u001b[0m     \u001b[1;31m#ESTO ES LAMBDA\u001b[0m\u001b[1;33m\u001b[0m\u001b[1;33m\u001b[0m\u001b[0m\n",
      "\u001b[1;31mValueError\u001b[0m: operands could not be broadcast together with shapes (100,2) (3,) "
     ]
    }
   ],
   "source": [
    "datos_fichero = lee_csv(\"ex2data1.csv\")\n",
    "num_muestras = len(datos_fichero)\n",
    "X = datos_fichero[:,:-1]\n",
    "Y = datos_fichero[:,-1]\n",
    "\n",
    "pinta_datos(X, Y)\n",
    "\n",
    "THETA = np.zeros(np.shape(datos_fichero)[1])\n",
    "\n",
    "#h = fun_sigmoide()\n",
    "print(gradiente_funcion_coste(X, Y, THETA, num_muestras))\n",
    "#h = h.reshape()\n"
   ]
  },
  {
   "cell_type": "code",
   "execution_count": null,
   "metadata": {},
   "outputs": [],
   "source": []
  }
 ],
 "metadata": {
  "kernelspec": {
   "display_name": "Python 3",
   "language": "python",
   "name": "python3"
  },
  "language_info": {
   "codemirror_mode": {
    "name": "ipython",
    "version": 3
   },
   "file_extension": ".py",
   "mimetype": "text/x-python",
   "name": "python",
   "nbconvert_exporter": "python",
   "pygments_lexer": "ipython3",
   "version": "3.6.5"
  }
 },
 "nbformat": 4,
 "nbformat_minor": 2
}
